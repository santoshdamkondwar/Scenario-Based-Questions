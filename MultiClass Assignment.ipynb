{
 "cells": [
  {
   "cell_type": "code",
   "execution_count": 1,
   "id": "46bcc718",
   "metadata": {},
   "outputs": [],
   "source": [
    "import numpy as np\n",
    "import pandas as pd\n",
    "import matplotlib.pyplot as plt\n",
    "import seaborn as sns"
   ]
  },
  {
   "cell_type": "code",
   "execution_count": 2,
   "id": "bec4862b",
   "metadata": {},
   "outputs": [],
   "source": [
    "train = pd.read_csv('D:/EduBridge Questions/ML Questions/train.csv')\n",
    "test = pd.read_csv('D:/EduBridge Questions/ML Questions/test.csv')"
   ]
  },
  {
   "cell_type": "code",
   "execution_count": 3,
   "id": "0566b76e",
   "metadata": {},
   "outputs": [
    {
     "name": "stdout",
     "output_type": "stream",
     "text": [
      "(1700, 22) \n",
      " (426, 21)\n"
     ]
    }
   ],
   "source": [
    "print(train.shape, '\\n', test.shape)"
   ]
  },
  {
   "cell_type": "code",
   "execution_count": 4,
   "id": "f4968355",
   "metadata": {},
   "outputs": [
    {
     "data": {
      "text/html": [
       "<div>\n",
       "<style scoped>\n",
       "    .dataframe tbody tr th:only-of-type {\n",
       "        vertical-align: middle;\n",
       "    }\n",
       "\n",
       "    .dataframe tbody tr th {\n",
       "        vertical-align: top;\n",
       "    }\n",
       "\n",
       "    .dataframe thead th {\n",
       "        text-align: right;\n",
       "    }\n",
       "</style>\n",
       "<table border=\"1\" class=\"dataframe\">\n",
       "  <thead>\n",
       "    <tr style=\"text-align: right;\">\n",
       "      <th></th>\n",
       "      <th>baseline value</th>\n",
       "      <th>accelerations</th>\n",
       "      <th>fetal_movement</th>\n",
       "      <th>uterine_contractions</th>\n",
       "      <th>light_decelerations</th>\n",
       "      <th>severe_decelerations</th>\n",
       "      <th>prolongued_decelerations</th>\n",
       "      <th>abnormal_short_term_variability</th>\n",
       "      <th>mean_value_of_short_term_variability</th>\n",
       "      <th>percentage_of_time_with_abnormal_long_term_variability</th>\n",
       "      <th>...</th>\n",
       "      <th>histogram_min</th>\n",
       "      <th>histogram_max</th>\n",
       "      <th>histogram_number_of_peaks</th>\n",
       "      <th>histogram_number_of_zeroes</th>\n",
       "      <th>histogram_mode</th>\n",
       "      <th>histogram_mean</th>\n",
       "      <th>histogram_median</th>\n",
       "      <th>histogram_variance</th>\n",
       "      <th>histogram_tendency</th>\n",
       "      <th>fetal_health</th>\n",
       "    </tr>\n",
       "  </thead>\n",
       "  <tbody>\n",
       "    <tr>\n",
       "      <th>0</th>\n",
       "      <td>142</td>\n",
       "      <td>0.000</td>\n",
       "      <td>0.000</td>\n",
       "      <td>0.007</td>\n",
       "      <td>0.000</td>\n",
       "      <td>0.0</td>\n",
       "      <td>0.0</td>\n",
       "      <td>58</td>\n",
       "      <td>0.4</td>\n",
       "      <td>9</td>\n",
       "      <td>...</td>\n",
       "      <td>136</td>\n",
       "      <td>156</td>\n",
       "      <td>0</td>\n",
       "      <td>0</td>\n",
       "      <td>148</td>\n",
       "      <td>147</td>\n",
       "      <td>149</td>\n",
       "      <td>1</td>\n",
       "      <td>0</td>\n",
       "      <td>1</td>\n",
       "    </tr>\n",
       "    <tr>\n",
       "      <th>1</th>\n",
       "      <td>122</td>\n",
       "      <td>0.000</td>\n",
       "      <td>0.000</td>\n",
       "      <td>0.006</td>\n",
       "      <td>0.002</td>\n",
       "      <td>0.0</td>\n",
       "      <td>0.0</td>\n",
       "      <td>27</td>\n",
       "      <td>1.4</td>\n",
       "      <td>4</td>\n",
       "      <td>...</td>\n",
       "      <td>91</td>\n",
       "      <td>144</td>\n",
       "      <td>4</td>\n",
       "      <td>0</td>\n",
       "      <td>126</td>\n",
       "      <td>120</td>\n",
       "      <td>122</td>\n",
       "      <td>6</td>\n",
       "      <td>0</td>\n",
       "      <td>1</td>\n",
       "    </tr>\n",
       "    <tr>\n",
       "      <th>2</th>\n",
       "      <td>129</td>\n",
       "      <td>0.005</td>\n",
       "      <td>0.003</td>\n",
       "      <td>0.001</td>\n",
       "      <td>0.000</td>\n",
       "      <td>0.0</td>\n",
       "      <td>0.0</td>\n",
       "      <td>34</td>\n",
       "      <td>1.7</td>\n",
       "      <td>0</td>\n",
       "      <td>...</td>\n",
       "      <td>78</td>\n",
       "      <td>196</td>\n",
       "      <td>10</td>\n",
       "      <td>0</td>\n",
       "      <td>137</td>\n",
       "      <td>136</td>\n",
       "      <td>137</td>\n",
       "      <td>6</td>\n",
       "      <td>0</td>\n",
       "      <td>1</td>\n",
       "    </tr>\n",
       "    <tr>\n",
       "      <th>3</th>\n",
       "      <td>136</td>\n",
       "      <td>0.006</td>\n",
       "      <td>0.000</td>\n",
       "      <td>0.008</td>\n",
       "      <td>0.000</td>\n",
       "      <td>0.0</td>\n",
       "      <td>0.0</td>\n",
       "      <td>45</td>\n",
       "      <td>0.8</td>\n",
       "      <td>2</td>\n",
       "      <td>...</td>\n",
       "      <td>129</td>\n",
       "      <td>158</td>\n",
       "      <td>2</td>\n",
       "      <td>0</td>\n",
       "      <td>144</td>\n",
       "      <td>143</td>\n",
       "      <td>145</td>\n",
       "      <td>1</td>\n",
       "      <td>0</td>\n",
       "      <td>1</td>\n",
       "    </tr>\n",
       "    <tr>\n",
       "      <th>4</th>\n",
       "      <td>144</td>\n",
       "      <td>0.000</td>\n",
       "      <td>0.000</td>\n",
       "      <td>0.006</td>\n",
       "      <td>0.000</td>\n",
       "      <td>0.0</td>\n",
       "      <td>0.0</td>\n",
       "      <td>32</td>\n",
       "      <td>1.0</td>\n",
       "      <td>0</td>\n",
       "      <td>...</td>\n",
       "      <td>122</td>\n",
       "      <td>160</td>\n",
       "      <td>1</td>\n",
       "      <td>0</td>\n",
       "      <td>150</td>\n",
       "      <td>147</td>\n",
       "      <td>149</td>\n",
       "      <td>2</td>\n",
       "      <td>1</td>\n",
       "      <td>1</td>\n",
       "    </tr>\n",
       "  </tbody>\n",
       "</table>\n",
       "<p>5 rows × 22 columns</p>\n",
       "</div>"
      ],
      "text/plain": [
       "   baseline value  accelerations  fetal_movement  uterine_contractions  \\\n",
       "0             142          0.000           0.000                 0.007   \n",
       "1             122          0.000           0.000                 0.006   \n",
       "2             129          0.005           0.003                 0.001   \n",
       "3             136          0.006           0.000                 0.008   \n",
       "4             144          0.000           0.000                 0.006   \n",
       "\n",
       "   light_decelerations  severe_decelerations  prolongued_decelerations  \\\n",
       "0                0.000                   0.0                       0.0   \n",
       "1                0.002                   0.0                       0.0   \n",
       "2                0.000                   0.0                       0.0   \n",
       "3                0.000                   0.0                       0.0   \n",
       "4                0.000                   0.0                       0.0   \n",
       "\n",
       "   abnormal_short_term_variability  mean_value_of_short_term_variability  \\\n",
       "0                               58                                   0.4   \n",
       "1                               27                                   1.4   \n",
       "2                               34                                   1.7   \n",
       "3                               45                                   0.8   \n",
       "4                               32                                   1.0   \n",
       "\n",
       "   percentage_of_time_with_abnormal_long_term_variability  ...  histogram_min  \\\n",
       "0                                                  9       ...            136   \n",
       "1                                                  4       ...             91   \n",
       "2                                                  0       ...             78   \n",
       "3                                                  2       ...            129   \n",
       "4                                                  0       ...            122   \n",
       "\n",
       "   histogram_max  histogram_number_of_peaks  histogram_number_of_zeroes  \\\n",
       "0            156                          0                           0   \n",
       "1            144                          4                           0   \n",
       "2            196                         10                           0   \n",
       "3            158                          2                           0   \n",
       "4            160                          1                           0   \n",
       "\n",
       "   histogram_mode  histogram_mean  histogram_median  histogram_variance  \\\n",
       "0             148             147               149                   1   \n",
       "1             126             120               122                   6   \n",
       "2             137             136               137                   6   \n",
       "3             144             143               145                   1   \n",
       "4             150             147               149                   2   \n",
       "\n",
       "   histogram_tendency  fetal_health  \n",
       "0                   0             1  \n",
       "1                   0             1  \n",
       "2                   0             1  \n",
       "3                   0             1  \n",
       "4                   1             1  \n",
       "\n",
       "[5 rows x 22 columns]"
      ]
     },
     "execution_count": 4,
     "metadata": {},
     "output_type": "execute_result"
    }
   ],
   "source": [
    "train.head()"
   ]
  },
  {
   "cell_type": "code",
   "execution_count": 5,
   "id": "f4f4691a",
   "metadata": {},
   "outputs": [
    {
     "data": {
      "text/html": [
       "<div>\n",
       "<style scoped>\n",
       "    .dataframe tbody tr th:only-of-type {\n",
       "        vertical-align: middle;\n",
       "    }\n",
       "\n",
       "    .dataframe tbody tr th {\n",
       "        vertical-align: top;\n",
       "    }\n",
       "\n",
       "    .dataframe thead th {\n",
       "        text-align: right;\n",
       "    }\n",
       "</style>\n",
       "<table border=\"1\" class=\"dataframe\">\n",
       "  <thead>\n",
       "    <tr style=\"text-align: right;\">\n",
       "      <th></th>\n",
       "      <th>baseline value</th>\n",
       "      <th>accelerations</th>\n",
       "      <th>fetal_movement</th>\n",
       "      <th>uterine_contractions</th>\n",
       "      <th>light_decelerations</th>\n",
       "      <th>severe_decelerations</th>\n",
       "      <th>prolongued_decelerations</th>\n",
       "      <th>abnormal_short_term_variability</th>\n",
       "      <th>mean_value_of_short_term_variability</th>\n",
       "      <th>percentage_of_time_with_abnormal_long_term_variability</th>\n",
       "      <th>...</th>\n",
       "      <th>histogram_width</th>\n",
       "      <th>histogram_min</th>\n",
       "      <th>histogram_max</th>\n",
       "      <th>histogram_number_of_peaks</th>\n",
       "      <th>histogram_number_of_zeroes</th>\n",
       "      <th>histogram_mode</th>\n",
       "      <th>histogram_mean</th>\n",
       "      <th>histogram_median</th>\n",
       "      <th>histogram_variance</th>\n",
       "      <th>histogram_tendency</th>\n",
       "    </tr>\n",
       "  </thead>\n",
       "  <tbody>\n",
       "    <tr>\n",
       "      <th>0</th>\n",
       "      <td>135.0</td>\n",
       "      <td>0.011</td>\n",
       "      <td>0.002</td>\n",
       "      <td>0.004</td>\n",
       "      <td>0.0</td>\n",
       "      <td>0.0</td>\n",
       "      <td>0.0</td>\n",
       "      <td>60.0</td>\n",
       "      <td>0.9</td>\n",
       "      <td>0.0</td>\n",
       "      <td>...</td>\n",
       "      <td>39.0</td>\n",
       "      <td>124.0</td>\n",
       "      <td>163.0</td>\n",
       "      <td>1.0</td>\n",
       "      <td>0.0</td>\n",
       "      <td>148.0</td>\n",
       "      <td>143.0</td>\n",
       "      <td>146.0</td>\n",
       "      <td>6.0</td>\n",
       "      <td>0.0</td>\n",
       "    </tr>\n",
       "    <tr>\n",
       "      <th>1</th>\n",
       "      <td>120.0</td>\n",
       "      <td>0.008</td>\n",
       "      <td>0.000</td>\n",
       "      <td>0.005</td>\n",
       "      <td>0.0</td>\n",
       "      <td>0.0</td>\n",
       "      <td>0.0</td>\n",
       "      <td>43.0</td>\n",
       "      <td>1.4</td>\n",
       "      <td>5.0</td>\n",
       "      <td>...</td>\n",
       "      <td>106.0</td>\n",
       "      <td>50.0</td>\n",
       "      <td>156.0</td>\n",
       "      <td>8.0</td>\n",
       "      <td>0.0</td>\n",
       "      <td>129.0</td>\n",
       "      <td>129.0</td>\n",
       "      <td>130.0</td>\n",
       "      <td>11.0</td>\n",
       "      <td>1.0</td>\n",
       "    </tr>\n",
       "    <tr>\n",
       "      <th>2</th>\n",
       "      <td>141.0</td>\n",
       "      <td>0.000</td>\n",
       "      <td>0.002</td>\n",
       "      <td>0.003</td>\n",
       "      <td>0.0</td>\n",
       "      <td>0.0</td>\n",
       "      <td>0.0</td>\n",
       "      <td>58.0</td>\n",
       "      <td>0.5</td>\n",
       "      <td>15.0</td>\n",
       "      <td>...</td>\n",
       "      <td>23.0</td>\n",
       "      <td>130.0</td>\n",
       "      <td>153.0</td>\n",
       "      <td>1.0</td>\n",
       "      <td>0.0</td>\n",
       "      <td>144.0</td>\n",
       "      <td>143.0</td>\n",
       "      <td>145.0</td>\n",
       "      <td>1.0</td>\n",
       "      <td>0.0</td>\n",
       "    </tr>\n",
       "    <tr>\n",
       "      <th>3</th>\n",
       "      <td>127.0</td>\n",
       "      <td>0.000</td>\n",
       "      <td>0.000</td>\n",
       "      <td>0.006</td>\n",
       "      <td>0.0</td>\n",
       "      <td>0.0</td>\n",
       "      <td>0.0</td>\n",
       "      <td>23.0</td>\n",
       "      <td>1.5</td>\n",
       "      <td>0.0</td>\n",
       "      <td>...</td>\n",
       "      <td>91.0</td>\n",
       "      <td>107.0</td>\n",
       "      <td>198.0</td>\n",
       "      <td>6.0</td>\n",
       "      <td>0.0</td>\n",
       "      <td>135.0</td>\n",
       "      <td>134.0</td>\n",
       "      <td>135.0</td>\n",
       "      <td>4.0</td>\n",
       "      <td>-1.0</td>\n",
       "    </tr>\n",
       "    <tr>\n",
       "      <th>4</th>\n",
       "      <td>152.0</td>\n",
       "      <td>0.000</td>\n",
       "      <td>0.000</td>\n",
       "      <td>0.002</td>\n",
       "      <td>0.0</td>\n",
       "      <td>0.0</td>\n",
       "      <td>0.0</td>\n",
       "      <td>61.0</td>\n",
       "      <td>0.4</td>\n",
       "      <td>74.0</td>\n",
       "      <td>...</td>\n",
       "      <td>41.0</td>\n",
       "      <td>123.0</td>\n",
       "      <td>164.0</td>\n",
       "      <td>4.0</td>\n",
       "      <td>0.0</td>\n",
       "      <td>160.0</td>\n",
       "      <td>158.0</td>\n",
       "      <td>160.0</td>\n",
       "      <td>1.0</td>\n",
       "      <td>1.0</td>\n",
       "    </tr>\n",
       "  </tbody>\n",
       "</table>\n",
       "<p>5 rows × 21 columns</p>\n",
       "</div>"
      ],
      "text/plain": [
       "   baseline value  accelerations  fetal_movement  uterine_contractions  \\\n",
       "0           135.0          0.011           0.002                 0.004   \n",
       "1           120.0          0.008           0.000                 0.005   \n",
       "2           141.0          0.000           0.002                 0.003   \n",
       "3           127.0          0.000           0.000                 0.006   \n",
       "4           152.0          0.000           0.000                 0.002   \n",
       "\n",
       "   light_decelerations  severe_decelerations  prolongued_decelerations  \\\n",
       "0                  0.0                   0.0                       0.0   \n",
       "1                  0.0                   0.0                       0.0   \n",
       "2                  0.0                   0.0                       0.0   \n",
       "3                  0.0                   0.0                       0.0   \n",
       "4                  0.0                   0.0                       0.0   \n",
       "\n",
       "   abnormal_short_term_variability  mean_value_of_short_term_variability  \\\n",
       "0                             60.0                                   0.9   \n",
       "1                             43.0                                   1.4   \n",
       "2                             58.0                                   0.5   \n",
       "3                             23.0                                   1.5   \n",
       "4                             61.0                                   0.4   \n",
       "\n",
       "   percentage_of_time_with_abnormal_long_term_variability  ...  \\\n",
       "0                                                0.0       ...   \n",
       "1                                                5.0       ...   \n",
       "2                                               15.0       ...   \n",
       "3                                                0.0       ...   \n",
       "4                                               74.0       ...   \n",
       "\n",
       "   histogram_width  histogram_min  histogram_max  histogram_number_of_peaks  \\\n",
       "0             39.0          124.0          163.0                        1.0   \n",
       "1            106.0           50.0          156.0                        8.0   \n",
       "2             23.0          130.0          153.0                        1.0   \n",
       "3             91.0          107.0          198.0                        6.0   \n",
       "4             41.0          123.0          164.0                        4.0   \n",
       "\n",
       "   histogram_number_of_zeroes  histogram_mode  histogram_mean  \\\n",
       "0                         0.0           148.0           143.0   \n",
       "1                         0.0           129.0           129.0   \n",
       "2                         0.0           144.0           143.0   \n",
       "3                         0.0           135.0           134.0   \n",
       "4                         0.0           160.0           158.0   \n",
       "\n",
       "   histogram_median  histogram_variance  histogram_tendency  \n",
       "0             146.0                 6.0                 0.0  \n",
       "1             130.0                11.0                 1.0  \n",
       "2             145.0                 1.0                 0.0  \n",
       "3             135.0                 4.0                -1.0  \n",
       "4             160.0                 1.0                 1.0  \n",
       "\n",
       "[5 rows x 21 columns]"
      ]
     },
     "execution_count": 5,
     "metadata": {},
     "output_type": "execute_result"
    }
   ],
   "source": [
    "test.head()"
   ]
  },
  {
   "cell_type": "code",
   "execution_count": 6,
   "id": "178a5384",
   "metadata": {},
   "outputs": [],
   "source": [
    "from sklearn.discriminant_analysis import LinearDiscriminantAnalysis"
   ]
  },
  {
   "cell_type": "code",
   "execution_count": 7,
   "id": "d69de82b",
   "metadata": {},
   "outputs": [],
   "source": [
    "X = train.drop('fetal_health', axis = 1)\n",
    "y = train.pop('fetal_health')"
   ]
  },
  {
   "cell_type": "code",
   "execution_count": 8,
   "id": "6e9dac92",
   "metadata": {},
   "outputs": [
    {
     "data": {
      "text/html": [
       "<div>\n",
       "<style scoped>\n",
       "    .dataframe tbody tr th:only-of-type {\n",
       "        vertical-align: middle;\n",
       "    }\n",
       "\n",
       "    .dataframe tbody tr th {\n",
       "        vertical-align: top;\n",
       "    }\n",
       "\n",
       "    .dataframe thead th {\n",
       "        text-align: right;\n",
       "    }\n",
       "</style>\n",
       "<table border=\"1\" class=\"dataframe\">\n",
       "  <thead>\n",
       "    <tr style=\"text-align: right;\">\n",
       "      <th></th>\n",
       "      <th>baseline value</th>\n",
       "      <th>accelerations</th>\n",
       "      <th>fetal_movement</th>\n",
       "      <th>uterine_contractions</th>\n",
       "      <th>light_decelerations</th>\n",
       "      <th>severe_decelerations</th>\n",
       "      <th>prolongued_decelerations</th>\n",
       "      <th>abnormal_short_term_variability</th>\n",
       "      <th>mean_value_of_short_term_variability</th>\n",
       "      <th>percentage_of_time_with_abnormal_long_term_variability</th>\n",
       "      <th>...</th>\n",
       "      <th>histogram_width</th>\n",
       "      <th>histogram_min</th>\n",
       "      <th>histogram_max</th>\n",
       "      <th>histogram_number_of_peaks</th>\n",
       "      <th>histogram_number_of_zeroes</th>\n",
       "      <th>histogram_mode</th>\n",
       "      <th>histogram_mean</th>\n",
       "      <th>histogram_median</th>\n",
       "      <th>histogram_variance</th>\n",
       "      <th>histogram_tendency</th>\n",
       "    </tr>\n",
       "  </thead>\n",
       "  <tbody>\n",
       "    <tr>\n",
       "      <th>0</th>\n",
       "      <td>142</td>\n",
       "      <td>0.000</td>\n",
       "      <td>0.000</td>\n",
       "      <td>0.007</td>\n",
       "      <td>0.000</td>\n",
       "      <td>0.0</td>\n",
       "      <td>0.0</td>\n",
       "      <td>58</td>\n",
       "      <td>0.4</td>\n",
       "      <td>9</td>\n",
       "      <td>...</td>\n",
       "      <td>20</td>\n",
       "      <td>136</td>\n",
       "      <td>156</td>\n",
       "      <td>0</td>\n",
       "      <td>0</td>\n",
       "      <td>148</td>\n",
       "      <td>147</td>\n",
       "      <td>149</td>\n",
       "      <td>1</td>\n",
       "      <td>0</td>\n",
       "    </tr>\n",
       "    <tr>\n",
       "      <th>1</th>\n",
       "      <td>122</td>\n",
       "      <td>0.000</td>\n",
       "      <td>0.000</td>\n",
       "      <td>0.006</td>\n",
       "      <td>0.002</td>\n",
       "      <td>0.0</td>\n",
       "      <td>0.0</td>\n",
       "      <td>27</td>\n",
       "      <td>1.4</td>\n",
       "      <td>4</td>\n",
       "      <td>...</td>\n",
       "      <td>53</td>\n",
       "      <td>91</td>\n",
       "      <td>144</td>\n",
       "      <td>4</td>\n",
       "      <td>0</td>\n",
       "      <td>126</td>\n",
       "      <td>120</td>\n",
       "      <td>122</td>\n",
       "      <td>6</td>\n",
       "      <td>0</td>\n",
       "    </tr>\n",
       "    <tr>\n",
       "      <th>2</th>\n",
       "      <td>129</td>\n",
       "      <td>0.005</td>\n",
       "      <td>0.003</td>\n",
       "      <td>0.001</td>\n",
       "      <td>0.000</td>\n",
       "      <td>0.0</td>\n",
       "      <td>0.0</td>\n",
       "      <td>34</td>\n",
       "      <td>1.7</td>\n",
       "      <td>0</td>\n",
       "      <td>...</td>\n",
       "      <td>118</td>\n",
       "      <td>78</td>\n",
       "      <td>196</td>\n",
       "      <td>10</td>\n",
       "      <td>0</td>\n",
       "      <td>137</td>\n",
       "      <td>136</td>\n",
       "      <td>137</td>\n",
       "      <td>6</td>\n",
       "      <td>0</td>\n",
       "    </tr>\n",
       "    <tr>\n",
       "      <th>3</th>\n",
       "      <td>136</td>\n",
       "      <td>0.006</td>\n",
       "      <td>0.000</td>\n",
       "      <td>0.008</td>\n",
       "      <td>0.000</td>\n",
       "      <td>0.0</td>\n",
       "      <td>0.0</td>\n",
       "      <td>45</td>\n",
       "      <td>0.8</td>\n",
       "      <td>2</td>\n",
       "      <td>...</td>\n",
       "      <td>29</td>\n",
       "      <td>129</td>\n",
       "      <td>158</td>\n",
       "      <td>2</td>\n",
       "      <td>0</td>\n",
       "      <td>144</td>\n",
       "      <td>143</td>\n",
       "      <td>145</td>\n",
       "      <td>1</td>\n",
       "      <td>0</td>\n",
       "    </tr>\n",
       "    <tr>\n",
       "      <th>4</th>\n",
       "      <td>144</td>\n",
       "      <td>0.000</td>\n",
       "      <td>0.000</td>\n",
       "      <td>0.006</td>\n",
       "      <td>0.000</td>\n",
       "      <td>0.0</td>\n",
       "      <td>0.0</td>\n",
       "      <td>32</td>\n",
       "      <td>1.0</td>\n",
       "      <td>0</td>\n",
       "      <td>...</td>\n",
       "      <td>38</td>\n",
       "      <td>122</td>\n",
       "      <td>160</td>\n",
       "      <td>1</td>\n",
       "      <td>0</td>\n",
       "      <td>150</td>\n",
       "      <td>147</td>\n",
       "      <td>149</td>\n",
       "      <td>2</td>\n",
       "      <td>1</td>\n",
       "    </tr>\n",
       "  </tbody>\n",
       "</table>\n",
       "<p>5 rows × 21 columns</p>\n",
       "</div>"
      ],
      "text/plain": [
       "   baseline value  accelerations  fetal_movement  uterine_contractions  \\\n",
       "0             142          0.000           0.000                 0.007   \n",
       "1             122          0.000           0.000                 0.006   \n",
       "2             129          0.005           0.003                 0.001   \n",
       "3             136          0.006           0.000                 0.008   \n",
       "4             144          0.000           0.000                 0.006   \n",
       "\n",
       "   light_decelerations  severe_decelerations  prolongued_decelerations  \\\n",
       "0                0.000                   0.0                       0.0   \n",
       "1                0.002                   0.0                       0.0   \n",
       "2                0.000                   0.0                       0.0   \n",
       "3                0.000                   0.0                       0.0   \n",
       "4                0.000                   0.0                       0.0   \n",
       "\n",
       "   abnormal_short_term_variability  mean_value_of_short_term_variability  \\\n",
       "0                               58                                   0.4   \n",
       "1                               27                                   1.4   \n",
       "2                               34                                   1.7   \n",
       "3                               45                                   0.8   \n",
       "4                               32                                   1.0   \n",
       "\n",
       "   percentage_of_time_with_abnormal_long_term_variability  ...  \\\n",
       "0                                                  9       ...   \n",
       "1                                                  4       ...   \n",
       "2                                                  0       ...   \n",
       "3                                                  2       ...   \n",
       "4                                                  0       ...   \n",
       "\n",
       "   histogram_width  histogram_min  histogram_max  histogram_number_of_peaks  \\\n",
       "0               20            136            156                          0   \n",
       "1               53             91            144                          4   \n",
       "2              118             78            196                         10   \n",
       "3               29            129            158                          2   \n",
       "4               38            122            160                          1   \n",
       "\n",
       "   histogram_number_of_zeroes  histogram_mode  histogram_mean  \\\n",
       "0                           0             148             147   \n",
       "1                           0             126             120   \n",
       "2                           0             137             136   \n",
       "3                           0             144             143   \n",
       "4                           0             150             147   \n",
       "\n",
       "   histogram_median  histogram_variance  histogram_tendency  \n",
       "0               149                   1                   0  \n",
       "1               122                   6                   0  \n",
       "2               137                   6                   0  \n",
       "3               145                   1                   0  \n",
       "4               149                   2                   1  \n",
       "\n",
       "[5 rows x 21 columns]"
      ]
     },
     "execution_count": 8,
     "metadata": {},
     "output_type": "execute_result"
    }
   ],
   "source": [
    "X.head()"
   ]
  },
  {
   "cell_type": "code",
   "execution_count": 9,
   "id": "bc124d3a",
   "metadata": {},
   "outputs": [
    {
     "data": {
      "text/plain": [
       "0    1\n",
       "1    1\n",
       "2    1\n",
       "3    1\n",
       "4    1\n",
       "Name: fetal_health, dtype: int64"
      ]
     },
     "execution_count": 9,
     "metadata": {},
     "output_type": "execute_result"
    }
   ],
   "source": [
    "y.head()"
   ]
  },
  {
   "cell_type": "code",
   "execution_count": 10,
   "id": "a7fc7c22",
   "metadata": {},
   "outputs": [
    {
     "data": {
      "text/plain": [
       "1    1323\n",
       "2     236\n",
       "3     141\n",
       "Name: fetal_health, dtype: int64"
      ]
     },
     "execution_count": 10,
     "metadata": {},
     "output_type": "execute_result"
    }
   ],
   "source": [
    "y.value_counts()"
   ]
  },
  {
   "cell_type": "code",
   "execution_count": 11,
   "id": "1fd60847",
   "metadata": {},
   "outputs": [
    {
     "data": {
      "text/plain": [
       "1    0.778235\n",
       "2    0.138824\n",
       "3    0.082941\n",
       "Name: fetal_health, dtype: float64"
      ]
     },
     "execution_count": 11,
     "metadata": {},
     "output_type": "execute_result"
    }
   ],
   "source": [
    "y.value_counts(normalize=True)"
   ]
  },
  {
   "cell_type": "code",
   "execution_count": 12,
   "id": "928e6c6f",
   "metadata": {},
   "outputs": [],
   "source": [
    "from sklearn.model_selection import train_test_split"
   ]
  },
  {
   "cell_type": "code",
   "execution_count": 13,
   "id": "f9dae80d",
   "metadata": {},
   "outputs": [],
   "source": [
    "X_train, X_test, y_train, y_test = train_test_split(X, y, test_size = 0.2, random_state=1)"
   ]
  },
  {
   "cell_type": "code",
   "execution_count": 14,
   "id": "f2c13727",
   "metadata": {},
   "outputs": [
    {
     "data": {
      "text/plain": [
       "1    0.781618\n",
       "2    0.137500\n",
       "3    0.080882\n",
       "Name: fetal_health, dtype: float64"
      ]
     },
     "execution_count": 14,
     "metadata": {},
     "output_type": "execute_result"
    }
   ],
   "source": [
    "y_train.value_counts(normalize=True)"
   ]
  },
  {
   "cell_type": "code",
   "execution_count": 15,
   "id": "ed2610a2",
   "metadata": {},
   "outputs": [
    {
     "data": {
      "text/plain": [
       "1    0.764706\n",
       "2    0.144118\n",
       "3    0.091176\n",
       "Name: fetal_health, dtype: float64"
      ]
     },
     "execution_count": 15,
     "metadata": {},
     "output_type": "execute_result"
    }
   ],
   "source": [
    "y_test.value_counts(normalize=1)"
   ]
  },
  {
   "cell_type": "code",
   "execution_count": 16,
   "id": "8b6e8f2a",
   "metadata": {},
   "outputs": [],
   "source": [
    "lda = LinearDiscriminantAnalysis()"
   ]
  },
  {
   "cell_type": "code",
   "execution_count": 17,
   "id": "78bd9f24",
   "metadata": {},
   "outputs": [
    {
     "data": {
      "text/plain": [
       "LinearDiscriminantAnalysis()"
      ]
     },
     "execution_count": 17,
     "metadata": {},
     "output_type": "execute_result"
    }
   ],
   "source": [
    "lda.fit(X_train, y_train)"
   ]
  },
  {
   "cell_type": "code",
   "execution_count": 18,
   "id": "538973bf",
   "metadata": {},
   "outputs": [
    {
     "data": {
      "text/plain": [
       "0.8794117647058823"
      ]
     },
     "execution_count": 18,
     "metadata": {},
     "output_type": "execute_result"
    }
   ],
   "source": [
    "lda.score(X_train, y_train)"
   ]
  },
  {
   "cell_type": "code",
   "execution_count": 19,
   "id": "7609cab3",
   "metadata": {},
   "outputs": [
    {
     "data": {
      "text/plain": [
       "0.8676470588235294"
      ]
     },
     "execution_count": 19,
     "metadata": {},
     "output_type": "execute_result"
    }
   ],
   "source": [
    "lda.score(X_test, y_test)"
   ]
  },
  {
   "cell_type": "code",
   "execution_count": 20,
   "id": "0b292488",
   "metadata": {},
   "outputs": [],
   "source": [
    "from sklearn.metrics import confusion_matrix, classification_report"
   ]
  },
  {
   "cell_type": "code",
   "execution_count": 21,
   "id": "f7fc1862",
   "metadata": {},
   "outputs": [],
   "source": [
    "y_train_pred = lda.predict(X_train)\n",
    "y_test_pred = lda.predict(X_test)"
   ]
  },
  {
   "cell_type": "code",
   "execution_count": 27,
   "id": "08f1eebb",
   "metadata": {},
   "outputs": [
    {
     "data": {
      "text/plain": [
       "Text(0.5, 1.0, 'Confusion Matrix for Test Set')"
      ]
     },
     "execution_count": 27,
     "metadata": {},
     "output_type": "execute_result"
    },
    {
     "data": {
      "image/png": "[encoded data removed]",
      "text/plain": [
       "<Figure size 864x288 with 4 Axes>"
      ]
     },
     "metadata": {
      "needs_background": "light"
     },
     "output_type": "display_data"
    }
   ],
   "source": [
    "fig, (ax1, ax2) = plt.subplots(1, 2, figsize = (12, 4))\n",
    "sns.heatmap(confusion_matrix(y_train, y_train_pred), annot = True, fmt = 'd', ax = ax1)\n",
    "ax1.set_title('Confusion Matrix for Training Set')\n",
    "sns.heatmap(confusion_matrix(y_test, y_test_pred), annot = True, fmt = 'd', ax = ax2)\n",
    "ax2.set_title('Confusion Matrix for Test Set');"
   ]
  },
  {
   "cell_type": "code",
   "execution_count": 28,
   "id": "df237b4d",
   "metadata": {},
   "outputs": [
    {
     "name": "stdout",
     "output_type": "stream",
     "text": [
      "              precision    recall  f1-score   support\n",
      "\n",
      "           1       0.93      0.95      0.94      1063\n",
      "           2       0.60      0.60      0.60       187\n",
      "           3       0.87      0.63      0.73       110\n",
      "\n",
      "    accuracy                           0.88      1360\n",
      "   macro avg       0.80      0.73      0.76      1360\n",
      "weighted avg       0.88      0.88      0.88      1360\n",
      "\n"
     ]
    }
   ],
   "source": [
    "print(classification_report(y_train, y_train_pred))"
   ]
  },
  {
   "cell_type": "code",
   "execution_count": 29,
   "id": "079276c7",
   "metadata": {},
   "outputs": [
    {
     "name": "stdout",
     "output_type": "stream",
     "text": [
      "              precision    recall  f1-score   support\n",
      "\n",
      "           1       0.92      0.95      0.93       260\n",
      "           2       0.62      0.59      0.60        49\n",
      "           3       0.79      0.61      0.69        31\n",
      "\n",
      "    accuracy                           0.87       340\n",
      "   macro avg       0.78      0.72      0.74       340\n",
      "weighted avg       0.86      0.87      0.86       340\n",
      "\n"
     ]
    }
   ],
   "source": [
    "print(classification_report(y_test, y_test_pred))"
   ]
  },
  {
   "cell_type": "code",
   "execution_count": 75,
   "id": "e1921ed4",
   "metadata": {},
   "outputs": [],
   "source": [
    "from sklearn.neighbors import KNeighborsClassifier"
   ]
  },
  {
   "cell_type": "code",
   "execution_count": 115,
   "id": "6a890ca5",
   "metadata": {},
   "outputs": [],
   "source": [
    "from scipy.stats import zscore"
   ]
  },
  {
   "cell_type": "code",
   "execution_count": 116,
   "id": "e3cc1ed3",
   "metadata": {},
   "outputs": [],
   "source": [
    "X_trainz = X_train.apply(zscore)\n",
    "X_testz = X_test.apply(zscore)"
   ]
  },
  {
   "cell_type": "code",
   "execution_count": 76,
   "id": "d9c3bec1",
   "metadata": {},
   "outputs": [],
   "source": [
    "knn_model = KNeighborsClassifier()"
   ]
  },
  {
   "cell_type": "code",
   "execution_count": 117,
   "id": "f93c4a3c",
   "metadata": {},
   "outputs": [
    {
     "data": {
      "text/plain": [
       "KNeighborsClassifier()"
      ]
     },
     "execution_count": 117,
     "metadata": {},
     "output_type": "execute_result"
    }
   ],
   "source": [
    "knn_model.fit(X_trainz, y_train)"
   ]
  },
  {
   "cell_type": "code",
   "execution_count": 118,
   "id": "184d62e1",
   "metadata": {},
   "outputs": [
    {
     "data": {
      "text/plain": [
       "0.9279411764705883"
      ]
     },
     "execution_count": 118,
     "metadata": {},
     "output_type": "execute_result"
    }
   ],
   "source": [
    "knn_model.score(X_trainz, y_train)"
   ]
  },
  {
   "cell_type": "code",
   "execution_count": 119,
   "id": "80e67d66",
   "metadata": {},
   "outputs": [
    {
     "data": {
      "text/plain": [
       "0.9"
      ]
     },
     "execution_count": 119,
     "metadata": {},
     "output_type": "execute_result"
    }
   ],
   "source": [
    "knn_model.score(X_testz, y_test)"
   ]
  },
  {
   "cell_type": "code",
   "execution_count": 120,
   "id": "5c057cab",
   "metadata": {},
   "outputs": [],
   "source": [
    "ytrain_knn = knn_model.predict(X_trainz)\n",
    "ytest_knn = knn_model.predict(X_testz)"
   ]
  },
  {
   "cell_type": "code",
   "execution_count": 121,
   "id": "58e82d08",
   "metadata": {},
   "outputs": [
    {
     "data": {
      "image/png": "[encoded data removed]",
      "text/plain": [
       "<Figure size 864x288 with 4 Axes>"
      ]
     },
     "metadata": {
      "needs_background": "light"
     },
     "output_type": "display_data"
    }
   ],
   "source": [
    "fig, (ax1, ax2) = plt.subplots(1, 2, figsize = (12, 4))\n",
    "sns.heatmap(confusion_matrix(y_train, ytrain_knn), annot = True, fmt = 'd', ax = ax1)\n",
    "ax1.set_title('Confusion Matrix for Training Set')\n",
    "sns.heatmap(confusion_matrix(y_test, ytest_knn), annot = True, fmt = 'd', ax = ax2)\n",
    "ax2.set_title('Confusion Matrix for Test Set');"
   ]
  },
  {
   "cell_type": "code",
   "execution_count": 111,
   "id": "3a730a50",
   "metadata": {},
   "outputs": [
    {
     "name": "stdout",
     "output_type": "stream",
     "text": [
      "              precision    recall  f1-score   support\n",
      "\n",
      "           1       0.93      0.98      0.96      1063\n",
      "           2       0.83      0.66      0.73       187\n",
      "           3       0.94      0.81      0.87       110\n",
      "\n",
      "    accuracy                           0.92      1360\n",
      "   macro avg       0.90      0.82      0.85      1360\n",
      "weighted avg       0.92      0.92      0.92      1360\n",
      "\n"
     ]
    }
   ],
   "source": [
    "print(classification_report(y_train, ytrain_knn))"
   ]
  },
  {
   "cell_type": "code",
   "execution_count": 112,
   "id": "e32d5995",
   "metadata": {},
   "outputs": [
    {
     "name": "stdout",
     "output_type": "stream",
     "text": [
      "              precision    recall  f1-score   support\n",
      "\n",
      "           1       0.91      0.97      0.94       260\n",
      "           2       0.82      0.57      0.67        49\n",
      "           3       0.86      0.81      0.83        31\n",
      "\n",
      "    accuracy                           0.90       340\n",
      "   macro avg       0.87      0.78      0.82       340\n",
      "weighted avg       0.90      0.90      0.89       340\n",
      "\n"
     ]
    }
   ],
   "source": [
    "print(classification_report(y_test, ytest_knn))"
   ]
  },
  {
   "cell_type": "code",
   "execution_count": 44,
   "id": "b2f6707f",
   "metadata": {},
   "outputs": [],
   "source": [
    "from sklearn.tree import DecisionTreeClassifier"
   ]
  },
  {
   "cell_type": "code",
   "execution_count": 45,
   "id": "4fa20dcc",
   "metadata": {},
   "outputs": [],
   "source": [
    "dt_model = DecisionTreeClassifier(random_state=1)"
   ]
  },
  {
   "cell_type": "code",
   "execution_count": 46,
   "id": "d8d8fea3",
   "metadata": {},
   "outputs": [
    {
     "data": {
      "text/plain": [
       "DecisionTreeClassifier(random_state=1)"
      ]
     },
     "execution_count": 46,
     "metadata": {},
     "output_type": "execute_result"
    }
   ],
   "source": [
    "dt_model.fit(X_train, y_train)"
   ]
  },
  {
   "cell_type": "code",
   "execution_count": 47,
   "id": "7aa0cabf",
   "metadata": {},
   "outputs": [
    {
     "data": {
      "text/plain": [
       "0.9985294117647059"
      ]
     },
     "execution_count": 47,
     "metadata": {},
     "output_type": "execute_result"
    }
   ],
   "source": [
    "dt_model.score(X_train, y_train)"
   ]
  },
  {
   "cell_type": "code",
   "execution_count": 48,
   "id": "fee771ab",
   "metadata": {},
   "outputs": [
    {
     "data": {
      "text/plain": [
       "0.9029411764705882"
      ]
     },
     "execution_count": 48,
     "metadata": {},
     "output_type": "execute_result"
    }
   ],
   "source": [
    "dt_model.score(X_test, y_test)"
   ]
  },
  {
   "cell_type": "code",
   "execution_count": 49,
   "id": "2a5ceb9b",
   "metadata": {},
   "outputs": [],
   "source": [
    "ytrain_dt_pred = dt_model.predict(X_train)\n",
    "ytest_dt_pred = dt_model.predict(X_test)"
   ]
  },
  {
   "cell_type": "code",
   "execution_count": 50,
   "id": "6dca0326",
   "metadata": {},
   "outputs": [
    {
     "data": {
      "image/png": "[encoded data removed]",
      "text/plain": [
       "<Figure size 864x288 with 4 Axes>"
      ]
     },
     "metadata": {
      "needs_background": "light"
     },
     "output_type": "display_data"
    }
   ],
   "source": [
    "fig, (ax1, ax2) = plt.subplots(1, 2, figsize = (12, 4))\n",
    "sns.heatmap(confusion_matrix(y_train, ytrain_dt_pred), annot = True, fmt = 'd', ax = ax1)\n",
    "ax1.set_title('Confusion Matrix for Training Set')\n",
    "sns.heatmap(confusion_matrix(y_test, ytest_dt_pred), annot = True, fmt = 'd', ax = ax2)\n",
    "ax2.set_title('Confusion Matrix for Test Set');"
   ]
  },
  {
   "cell_type": "code",
   "execution_count": 113,
   "id": "f3da2050",
   "metadata": {},
   "outputs": [
    {
     "name": "stdout",
     "output_type": "stream",
     "text": [
      "              precision    recall  f1-score   support\n",
      "\n",
      "           1       1.00      1.00      1.00      1063\n",
      "           2       1.00      0.99      0.99       187\n",
      "           3       1.00      1.00      1.00       110\n",
      "\n",
      "    accuracy                           1.00      1360\n",
      "   macro avg       1.00      1.00      1.00      1360\n",
      "weighted avg       1.00      1.00      1.00      1360\n",
      "\n"
     ]
    }
   ],
   "source": [
    "print(classification_report(y_train, ytrain_dt_pred))"
   ]
  },
  {
   "cell_type": "code",
   "execution_count": 114,
   "id": "0bfafe3e",
   "metadata": {},
   "outputs": [
    {
     "name": "stdout",
     "output_type": "stream",
     "text": [
      "              precision    recall  f1-score   support\n",
      "\n",
      "           1       0.94      0.95      0.95       260\n",
      "           2       0.73      0.67      0.70        49\n",
      "           3       0.82      0.87      0.84        31\n",
      "\n",
      "    accuracy                           0.90       340\n",
      "   macro avg       0.83      0.83      0.83       340\n",
      "weighted avg       0.90      0.90      0.90       340\n",
      "\n"
     ]
    }
   ],
   "source": [
    "print(classification_report(y_test, ytest_dt_pred))"
   ]
  },
  {
   "cell_type": "code",
   "execution_count": 32,
   "id": "3da045f7",
   "metadata": {},
   "outputs": [],
   "source": [
    "from sklearn.ensemble import RandomForestClassifier"
   ]
  },
  {
   "cell_type": "code",
   "execution_count": 104,
   "id": "c12f98b2",
   "metadata": {},
   "outputs": [],
   "source": [
    "rf_model = RandomForestClassifier(random_state=1, max_depth=10)"
   ]
  },
  {
   "cell_type": "code",
   "execution_count": 106,
   "id": "9df166b0",
   "metadata": {},
   "outputs": [
    {
     "data": {
      "text/plain": [
       "RandomForestClassifier(max_depth=10, random_state=1)"
      ]
     },
     "execution_count": 106,
     "metadata": {},
     "output_type": "execute_result"
    }
   ],
   "source": [
    "rf_model.fit(X_train, y_train)"
   ]
  },
  {
   "cell_type": "code",
   "execution_count": 107,
   "id": "0c86a2df",
   "metadata": {},
   "outputs": [
    {
     "data": {
      "text/plain": [
       "0.9941176470588236"
      ]
     },
     "execution_count": 107,
     "metadata": {},
     "output_type": "execute_result"
    }
   ],
   "source": [
    "rf_model.score(X_train, y_train)"
   ]
  },
  {
   "cell_type": "code",
   "execution_count": 108,
   "id": "ba98bec4",
   "metadata": {},
   "outputs": [
    {
     "data": {
      "text/plain": [
       "0.9441176470588235"
      ]
     },
     "execution_count": 108,
     "metadata": {},
     "output_type": "execute_result"
    }
   ],
   "source": [
    "rf_model.score(X_test, y_test)"
   ]
  },
  {
   "cell_type": "code",
   "execution_count": 37,
   "id": "fd30834b",
   "metadata": {},
   "outputs": [],
   "source": [
    "ytrain_rf_pred = rf_model.predict(X_train)\n",
    "ytest_rf_pred = rf_model.predict(X_test)"
   ]
  },
  {
   "cell_type": "code",
   "execution_count": 38,
   "id": "20cd017e",
   "metadata": {},
   "outputs": [
    {
     "data": {
      "text/plain": [
       "Text(0.5, 1.0, 'Confusion Matrix for Test Set')"
      ]
     },
     "execution_count": 38,
     "metadata": {},
     "output_type": "execute_result"
    },
    {
     "data": {
      "image/png": "[encoded data removed]",
      "text/plain": [
       "<Figure size 864x288 with 4 Axes>"
      ]
     },
     "metadata": {
      "needs_background": "light"
     },
     "output_type": "display_data"
    }
   ],
   "source": [
    "fig, (ax1, ax2) = plt.subplots(1, 2, figsize = (12, 4))\n",
    "sns.heatmap(confusion_matrix(y_train, ytrain_rf_pred), annot = True, fmt = 'd', ax = ax1)\n",
    "ax1.set_title('Confusion Matrix for Training Set')\n",
    "sns.heatmap(confusion_matrix(y_test, ytest_rf_pred), annot = True, fmt = 'd', ax = ax2)\n",
    "ax2.set_title('Confusion Matrix for Test Set');"
   ]
  },
  {
   "cell_type": "code",
   "execution_count": 39,
   "id": "3b7e580d",
   "metadata": {},
   "outputs": [
    {
     "name": "stdout",
     "output_type": "stream",
     "text": [
      "              precision    recall  f1-score   support\n",
      "\n",
      "           1       1.00      1.00      1.00      1063\n",
      "           2       1.00      0.99      0.99       187\n",
      "           3       1.00      1.00      1.00       110\n",
      "\n",
      "    accuracy                           1.00      1360\n",
      "   macro avg       1.00      1.00      1.00      1360\n",
      "weighted avg       1.00      1.00      1.00      1360\n",
      "\n"
     ]
    }
   ],
   "source": [
    "print(classification_report(y_train, ytrain_rf_pred))"
   ]
  },
  {
   "cell_type": "code",
   "execution_count": 40,
   "id": "a95f5d89",
   "metadata": {},
   "outputs": [
    {
     "name": "stdout",
     "output_type": "stream",
     "text": [
      "              precision    recall  f1-score   support\n",
      "\n",
      "           1       0.96      0.98      0.97       260\n",
      "           2       0.88      0.76      0.81        49\n",
      "           3       0.90      0.87      0.89        31\n",
      "\n",
      "    accuracy                           0.94       340\n",
      "   macro avg       0.91      0.87      0.89       340\n",
      "weighted avg       0.94      0.94      0.94       340\n",
      "\n"
     ]
    }
   ],
   "source": [
    "print(classification_report(y_test, ytest_rf_pred))"
   ]
  },
  {
   "cell_type": "code",
   "execution_count": 122,
   "id": "1be78aaa",
   "metadata": {},
   "outputs": [],
   "source": [
    "rf_test = rf_model.predict(test)"
   ]
  },
  {
   "cell_type": "code",
   "execution_count": 123,
   "id": "dcf6f199",
   "metadata": {},
   "outputs": [
    {
     "data": {
      "text/plain": [
       "1.0"
      ]
     },
     "execution_count": 123,
     "metadata": {},
     "output_type": "execute_result"
    }
   ],
   "source": [
    "rf_model.score(test, rf_test)"
   ]
  },
  {
   "cell_type": "code",
   "execution_count": 128,
   "id": "b6c78fd8",
   "metadata": {},
   "outputs": [],
   "source": [
    "rf_test = pd.DataFrame(rf_test, columns=['fetal_health'])"
   ]
  },
  {
   "cell_type": "code",
   "execution_count": 129,
   "id": "0bdb2de6",
   "metadata": {},
   "outputs": [],
   "source": [
    "rf_test.to_csv('fetal_health.csv')"
   ]
  }
 ],
 "metadata": {
  "kernelspec": {
   "display_name": "Python 3 (ipykernel)",
   "language": "python",
   "name": "python3"
  },
  "language_info": {
   "codemirror_mode": {
    "name": "ipython",
    "version": 3
   },
   "file_extension": ".py",
   "mimetype": "text/x-python",
   "name": "python",
   "nbconvert_exporter": "python",
   "pygments_lexer": "ipython3",
   "version": "3.9.12"
  }
 },
 "nbformat": 4,
 "nbformat_minor": 5
}
